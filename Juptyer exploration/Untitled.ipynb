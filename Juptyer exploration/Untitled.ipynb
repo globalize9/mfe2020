{
 "cells": [
  {
   "cell_type": "code",
   "execution_count": 5,
   "metadata": {},
   "outputs": [
    {
     "ename": "NameError",
     "evalue": "name 'prices' is not defined",
     "output_type": "error",
     "traceback": [
      "\u001b[1;31m---------------------------------------------------------------------------\u001b[0m",
      "\u001b[1;31mNameError\u001b[0m                                 Traceback (most recent call last)",
      "\u001b[1;32m<ipython-input-5-1a4d3347852c>\u001b[0m in \u001b[0;36m<module>\u001b[1;34m\u001b[0m\n\u001b[0;32m      3\u001b[0m \u001b[1;33m\u001b[0m\u001b[0m\n\u001b[0;32m      4\u001b[0m \u001b[1;31m# Query historical pricing data for AAPL\u001b[0m\u001b[1;33m\u001b[0m\u001b[1;33m\u001b[0m\u001b[1;33m\u001b[0m\u001b[0m\n\u001b[1;32m----> 5\u001b[1;33m aapl_close = prices(\n\u001b[0m\u001b[0;32m      6\u001b[0m     \u001b[0massets\u001b[0m\u001b[1;33m=\u001b[0m\u001b[0msymbols\u001b[0m\u001b[1;33m(\u001b[0m\u001b[1;34m'AAPL'\u001b[0m\u001b[1;33m)\u001b[0m\u001b[1;33m,\u001b[0m\u001b[1;33m\u001b[0m\u001b[1;33m\u001b[0m\u001b[0m\n\u001b[0;32m      7\u001b[0m     \u001b[0mstart\u001b[0m\u001b[1;33m=\u001b[0m\u001b[1;34m'2013-01-01'\u001b[0m\u001b[1;33m,\u001b[0m\u001b[1;33m\u001b[0m\u001b[1;33m\u001b[0m\u001b[0m\n",
      "\u001b[1;31mNameError\u001b[0m: name 'prices' is not defined"
     ]
    }
   ],
   "source": [
    "# Research environment functions\n",
    "from quantopian.research import prices, symbols\n",
    "\n",
    "# Pandas library: https://pandas.pydata.org/\n",
    "import pandas as pd\n",
    "\n",
    "# Query historical pricing data for AAPL\n",
    "aapl_close = prices(\n",
    "    assets=symbols('AAPL'),\n",
    "    start='2013-01-01',\n",
    "    end='2016-01-01',\n",
    ")\n",
    "\n",
    "# Compute 20 and 50 day moving averages on\n",
    "# AAPL's pricing data\n",
    "aapl_sma20 = aapl_close.rolling(20).mean()\n",
    "aapl_sma50 = aapl_close.rolling(50).mean()\n",
    "\n",
    "# Combine results into a pandas DataFrame and plot\n",
    "pd.DataFrame({   \n",
    "    'AAPL': aapl_close,\n",
    "    'SMA20': aapl_sma20,\n",
    "    'SMA50': aapl_sma50\n",
    "}).plot(\n",
    "    title='AAPL Close Price / SMA Crossover'\n",
    ");"
   ]
  },
  {
   "cell_type": "code",
   "execution_count": null,
   "metadata": {},
   "outputs": [],
   "source": []
  }
 ],
 "metadata": {
  "kernelspec": {
   "display_name": "Python 3",
   "language": "python",
   "name": "python3"
  },
  "language_info": {
   "codemirror_mode": {
    "name": "ipython",
    "version": 3
   },
   "file_extension": ".py",
   "mimetype": "text/x-python",
   "name": "python",
   "nbconvert_exporter": "python",
   "pygments_lexer": "ipython3",
   "version": "3.7.6"
  }
 },
 "nbformat": 4,
 "nbformat_minor": 4
}
